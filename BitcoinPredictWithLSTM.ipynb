{
  "nbformat": 4,
  "nbformat_minor": 0,
  "metadata": {
    "colab": {
      "name": "BitcoinPredictWithLSTM.ipynb",
      "version": "0.3.2",
      "provenance": [],
      "collapsed_sections": [],
      "include_colab_link": true
    },
    "kernelspec": {
      "name": "python3",
      "display_name": "Python 3"
    }
  },
  "cells": [
    {
      "cell_type": "markdown",
      "metadata": {
        "id": "view-in-github",
        "colab_type": "text"
      },
      "source": [
        "[View in Colaboratory](https://colab.research.google.com/github/MarcinWylot/CryptocurrencyPricePredictor/blob/master/BitcoinPredictWithLSTM.ipynb)"
      ]
    },
    {
      "metadata": {
        "id": "xNdCGgGP8sXL",
        "colab_type": "code",
        "colab": {
          "base_uri": "https://localhost:8080/",
          "height": 34
        },
        "outputId": "b8329eb4-76ad-4e91-c39a-2ee4f304221f"
      },
      "cell_type": "code",
      "source": [
        "import requests\n",
        "import json\n",
        "import calendar\n",
        "import random \n",
        "import numpy as np\n",
        "import pandas as pd\n",
        "from sklearn.preprocessing import StandardScaler\n",
        "from keras.models import Sequential\n",
        "from keras.layers import Dense, Dropout, Activation, Flatten\n",
        "from keras.layers import Conv1D, MaxPooling1D, LeakyReLU, PReLU\n",
        "from keras.utils import np_utils\n",
        "from keras.callbacks import CSVLogger, ModelCheckpoint\n",
        "import h5py\n",
        "import os\n",
        "import tensorflow as tf\n",
        "from keras.backend.tensorflow_backend import set_session\n",
        "import matplotlib.pyplot as plt\n",
        "from sklearn.metrics import mean_squared_error, r2_score, median_absolute_error, mean_absolute_error\n",
        "import math \n"
      ],
      "execution_count": 1,
      "outputs": [
        {
          "output_type": "stream",
          "text": [
            "Using TensorFlow backend.\n"
          ],
          "name": "stderr"
        }
      ]
    },
    {
      "metadata": {
        "id": "dPR9YB8t8tl0",
        "colab_type": "code",
        "colab": {
          "base_uri": "https://localhost:8080/",
          "height": 204
        },
        "outputId": "71501b76-0f37-47e3-fd26-17fa59ae09fb"
      },
      "cell_type": "code",
      "source": [
        "url = 'https://min-api.cryptocompare.com/data/histohour?tsym=USD&limit=9999&fsym=BTC'\n",
        "response = requests.get(url)\n",
        "\n",
        "json_array = json.loads(response.text)\n",
        "\n",
        "df = pd.DataFrame(json_array['Data'], columns = ['time', 'close', 'high', 'low', 'open', 'volumefrom','volumeto'])\n",
        "df.head()"
      ],
      "execution_count": 12,
      "outputs": [
        {
          "output_type": "execute_result",
          "data": {
            "text/html": [
              "<div>\n",
              "<style scoped>\n",
              "    .dataframe tbody tr th:only-of-type {\n",
              "        vertical-align: middle;\n",
              "    }\n",
              "\n",
              "    .dataframe tbody tr th {\n",
              "        vertical-align: top;\n",
              "    }\n",
              "\n",
              "    .dataframe thead th {\n",
              "        text-align: right;\n",
              "    }\n",
              "</style>\n",
              "<table border=\"1\" class=\"dataframe\">\n",
              "  <thead>\n",
              "    <tr style=\"text-align: right;\">\n",
              "      <th></th>\n",
              "      <th>time</th>\n",
              "      <th>close</th>\n",
              "      <th>high</th>\n",
              "      <th>low</th>\n",
              "      <th>open</th>\n",
              "      <th>volumefrom</th>\n",
              "      <th>volumeto</th>\n",
              "    </tr>\n",
              "  </thead>\n",
              "  <tbody>\n",
              "    <tr>\n",
              "      <th>0</th>\n",
              "      <td>1525312800</td>\n",
              "      <td>9252.52</td>\n",
              "      <td>9254.84</td>\n",
              "      <td>9208.29</td>\n",
              "      <td>9235.19</td>\n",
              "      <td>2554.82</td>\n",
              "      <td>23629176.85</td>\n",
              "    </tr>\n",
              "    <tr>\n",
              "      <th>1</th>\n",
              "      <td>1525316400</td>\n",
              "      <td>9238.12</td>\n",
              "      <td>9273.19</td>\n",
              "      <td>9224.66</td>\n",
              "      <td>9252.52</td>\n",
              "      <td>3480.43</td>\n",
              "      <td>32210715.82</td>\n",
              "    </tr>\n",
              "    <tr>\n",
              "      <th>2</th>\n",
              "      <td>1525320000</td>\n",
              "      <td>9274.97</td>\n",
              "      <td>9291.44</td>\n",
              "      <td>9238.09</td>\n",
              "      <td>9238.09</td>\n",
              "      <td>3157.94</td>\n",
              "      <td>29301783.58</td>\n",
              "    </tr>\n",
              "    <tr>\n",
              "      <th>3</th>\n",
              "      <td>1525323600</td>\n",
              "      <td>9206.02</td>\n",
              "      <td>9282.01</td>\n",
              "      <td>9186.41</td>\n",
              "      <td>9274.97</td>\n",
              "      <td>2442.24</td>\n",
              "      <td>22545061.72</td>\n",
              "    </tr>\n",
              "    <tr>\n",
              "      <th>4</th>\n",
              "      <td>1525327200</td>\n",
              "      <td>9213.73</td>\n",
              "      <td>9229.21</td>\n",
              "      <td>9172.28</td>\n",
              "      <td>9207.73</td>\n",
              "      <td>2799.05</td>\n",
              "      <td>25779054.98</td>\n",
              "    </tr>\n",
              "  </tbody>\n",
              "</table>\n",
              "</div>"
            ],
            "text/plain": [
              "         time    close     high      low     open  volumefrom     volumeto\n",
              "0  1525312800  9252.52  9254.84  9208.29  9235.19     2554.82  23629176.85\n",
              "1  1525316400  9238.12  9273.19  9224.66  9252.52     3480.43  32210715.82\n",
              "2  1525320000  9274.97  9291.44  9238.09  9238.09     3157.94  29301783.58\n",
              "3  1525323600  9206.02  9282.01  9186.41  9274.97     2442.24  22545061.72\n",
              "4  1525327200  9213.73  9229.21  9172.28  9207.73     2799.05  25779054.98"
            ]
          },
          "metadata": {
            "tags": []
          },
          "execution_count": 12
        }
      ]
    },
    {
      "metadata": {
        "id": "dKin5N7eBIPR",
        "colab_type": "code",
        "colab": {
          "base_uri": "https://localhost:8080/",
          "height": 364
        },
        "outputId": "e1b655fd-bf9c-4605-debb-e16c17f54cd4"
      },
      "cell_type": "code",
      "source": [
        "train, test = df[:-49], df[-50:]\n",
        "\n",
        "plt.plot(train['close'], label='train')\n",
        "plt.plot(test['close'], label='test')\n",
        "plt.legend(loc='best')"
      ],
      "execution_count": 13,
      "outputs": [
        {
          "output_type": "execute_result",
          "data": {
            "text/plain": [
              "<matplotlib.legend.Legend at 0x7f788354cf28>"
            ]
          },
          "metadata": {
            "tags": []
          },
          "execution_count": 13
        },
        {
          "output_type": "display_data",
          "data": {
            "image/png": "[encoded data removed]",
            "text/plain": [
              "<matplotlib.figure.Figure at 0x7f7885804dd8>"
            ]
          },
          "metadata": {
            "tags": []
          }
        }
      ]
    }
  ]
}