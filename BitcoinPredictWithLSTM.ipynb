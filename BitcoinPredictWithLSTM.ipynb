{
  "nbformat": 4,
  "nbformat_minor": 0,
  "metadata": {
    "colab": {
      "name": "BitcoinPredictWithLSTM.ipynb",
      "version": "0.3.2",
      "provenance": [],
      "collapsed_sections": [],
      "include_colab_link": true
    },
    "kernelspec": {
      "name": "python3",
      "display_name": "Python 3"
    },
    "accelerator": "GPU"
  },
  "cells": [
    {
      "cell_type": "markdown",
      "metadata": {
        "id": "view-in-github",
        "colab_type": "text"
      },
      "source": [
        "[View in Colaboratory](https://colab.research.google.com/github/MarcinWylot/CryptocurrencyPricePredictor/blob/master/BitcoinPredictWithLSTM.ipynb)"
      ]
    },
    {
      "metadata": {
        "id": "xNdCGgGP8sXL",
        "colab_type": "code",
        "colab": {}
      },
      "cell_type": "code",
      "source": [
        "import requests\n",
        "import json\n",
        "import calendar\n",
        "import random \n",
        "import numpy as np\n",
        "import pandas as pd\n",
        "from sklearn.preprocessing import MinMaxScaler\n",
        "from keras.layers.core import Dense, Dropout\n",
        "from keras.layers.recurrent import LSTM\n",
        "from keras.models import Sequential\n",
        "import matplotlib.pyplot as plt\n",
        "from sklearn.model_selection import train_test_split\n",
        "from sklearn.metrics import mean_squared_error, r2_score, median_absolute_error, mean_absolute_error\n"
      ],
      "execution_count": 0,
      "outputs": []
    },
    {
      "metadata": {
        "id": "dPR9YB8t8tl0",
        "colab_type": "code",
        "colab": {
          "base_uri": "https://localhost:8080/",
          "height": 235
        },
        "outputId": "1620716f-5f9c-4e08-e20c-e8720eb350c8"
      },
      "cell_type": "code",
      "source": [
        "url = 'https://min-api.cryptocompare.com/data/histohour?tsym=USD&limit=9999&fsym=BTC'\n",
        "response = requests.get(url)\n",
        "\n",
        "json_array = json.loads(response.text)\n",
        "\n",
        "df = pd.DataFrame(json_array['Data'], columns = ['time', 'close', 'high', 'low', 'open', 'volumefrom','volumeto'])\n",
        "#df.drop('time', 1, inplace=True)\n",
        "df.set_index('time', inplace=True)\n",
        "  \n",
        "df.head()"
      ],
      "execution_count": 51,
      "outputs": [
        {
          "output_type": "execute_result",
          "data": {
            "text/html": [
              "<div>\n",
              "<style scoped>\n",
              "    .dataframe tbody tr th:only-of-type {\n",
              "        vertical-align: middle;\n",
              "    }\n",
              "\n",
              "    .dataframe tbody tr th {\n",
              "        vertical-align: top;\n",
              "    }\n",
              "\n",
              "    .dataframe thead th {\n",
              "        text-align: right;\n",
              "    }\n",
              "</style>\n",
              "<table border=\"1\" class=\"dataframe\">\n",
              "  <thead>\n",
              "    <tr style=\"text-align: right;\">\n",
              "      <th></th>\n",
              "      <th>close</th>\n",
              "      <th>high</th>\n",
              "      <th>low</th>\n",
              "      <th>open</th>\n",
              "      <th>volumefrom</th>\n",
              "      <th>volumeto</th>\n",
              "    </tr>\n",
              "    <tr>\n",
              "      <th>time</th>\n",
              "      <th></th>\n",
              "      <th></th>\n",
              "      <th></th>\n",
              "      <th></th>\n",
              "      <th></th>\n",
              "      <th></th>\n",
              "    </tr>\n",
              "  </thead>\n",
              "  <tbody>\n",
              "    <tr>\n",
              "      <th>1525824000</th>\n",
              "      <td>9138.61</td>\n",
              "      <td>9204.71</td>\n",
              "      <td>9137.56</td>\n",
              "      <td>9196.13</td>\n",
              "      <td>2460.45</td>\n",
              "      <td>22619904.40</td>\n",
              "    </tr>\n",
              "    <tr>\n",
              "      <th>1525827600</th>\n",
              "      <td>9173.02</td>\n",
              "      <td>9179.73</td>\n",
              "      <td>9137.50</td>\n",
              "      <td>9138.62</td>\n",
              "      <td>977.43</td>\n",
              "      <td>8989864.00</td>\n",
              "    </tr>\n",
              "    <tr>\n",
              "      <th>1525831200</th>\n",
              "      <td>9094.69</td>\n",
              "      <td>9175.21</td>\n",
              "      <td>9089.32</td>\n",
              "      <td>9172.57</td>\n",
              "      <td>3371.70</td>\n",
              "      <td>30818549.21</td>\n",
              "    </tr>\n",
              "    <tr>\n",
              "      <th>1525834800</th>\n",
              "      <td>9056.42</td>\n",
              "      <td>9094.75</td>\n",
              "      <td>9016.16</td>\n",
              "      <td>9094.69</td>\n",
              "      <td>6559.13</td>\n",
              "      <td>59468539.57</td>\n",
              "    </tr>\n",
              "    <tr>\n",
              "      <th>1525838400</th>\n",
              "      <td>9086.62</td>\n",
              "      <td>9090.16</td>\n",
              "      <td>8987.27</td>\n",
              "      <td>9056.42</td>\n",
              "      <td>5624.84</td>\n",
              "      <td>50897503.62</td>\n",
              "    </tr>\n",
              "  </tbody>\n",
              "</table>\n",
              "</div>"
            ],
            "text/plain": [
              "              close     high      low     open  volumefrom     volumeto\n",
              "time                                                                   \n",
              "1525824000  9138.61  9204.71  9137.56  9196.13     2460.45  22619904.40\n",
              "1525827600  9173.02  9179.73  9137.50  9138.62      977.43   8989864.00\n",
              "1525831200  9094.69  9175.21  9089.32  9172.57     3371.70  30818549.21\n",
              "1525834800  9056.42  9094.75  9016.16  9094.69     6559.13  59468539.57\n",
              "1525838400  9086.62  9090.16  8987.27  9056.42     5624.84  50897503.62"
            ]
          },
          "metadata": {
            "tags": []
          },
          "execution_count": 51
        }
      ]
    },
    {
      "metadata": {
        "id": "yYtCppKblRjO",
        "colab_type": "code",
        "colab": {
          "base_uri": "https://localhost:8080/",
          "height": 34
        },
        "outputId": "bad01fa2-b656-445a-89b7-80a4f0e72905"
      },
      "cell_type": "code",
      "source": [
        "nb_features = df.shape[1]\n",
        "df.shape"
      ],
      "execution_count": 52,
      "outputs": [
        {
          "output_type": "execute_result",
          "data": {
            "text/plain": [
              "(2001, 6)"
            ]
          },
          "metadata": {
            "tags": []
          },
          "execution_count": 52
        }
      ]
    },
    {
      "metadata": {
        "id": "bKaqYwAbVtyY",
        "colab_type": "code",
        "colab": {
          "base_uri": "https://localhost:8080/",
          "height": 235
        },
        "outputId": "1b65eba3-599c-43f2-9b3d-7d6b75c91364"
      },
      "cell_type": "code",
      "source": [
        "df.iloc[:5,0:6]"
      ],
      "execution_count": 53,
      "outputs": [
        {
          "output_type": "execute_result",
          "data": {
            "text/html": [
              "<div>\n",
              "<style scoped>\n",
              "    .dataframe tbody tr th:only-of-type {\n",
              "        vertical-align: middle;\n",
              "    }\n",
              "\n",
              "    .dataframe tbody tr th {\n",
              "        vertical-align: top;\n",
              "    }\n",
              "\n",
              "    .dataframe thead th {\n",
              "        text-align: right;\n",
              "    }\n",
              "</style>\n",
              "<table border=\"1\" class=\"dataframe\">\n",
              "  <thead>\n",
              "    <tr style=\"text-align: right;\">\n",
              "      <th></th>\n",
              "      <th>close</th>\n",
              "      <th>high</th>\n",
              "      <th>low</th>\n",
              "      <th>open</th>\n",
              "      <th>volumefrom</th>\n",
              "      <th>volumeto</th>\n",
              "    </tr>\n",
              "    <tr>\n",
              "      <th>time</th>\n",
              "      <th></th>\n",
              "      <th></th>\n",
              "      <th></th>\n",
              "      <th></th>\n",
              "      <th></th>\n",
              "      <th></th>\n",
              "    </tr>\n",
              "  </thead>\n",
              "  <tbody>\n",
              "    <tr>\n",
              "      <th>1525824000</th>\n",
              "      <td>9138.61</td>\n",
              "      <td>9204.71</td>\n",
              "      <td>9137.56</td>\n",
              "      <td>9196.13</td>\n",
              "      <td>2460.45</td>\n",
              "      <td>22619904.40</td>\n",
              "    </tr>\n",
              "    <tr>\n",
              "      <th>1525827600</th>\n",
              "      <td>9173.02</td>\n",
              "      <td>9179.73</td>\n",
              "      <td>9137.50</td>\n",
              "      <td>9138.62</td>\n",
              "      <td>977.43</td>\n",
              "      <td>8989864.00</td>\n",
              "    </tr>\n",
              "    <tr>\n",
              "      <th>1525831200</th>\n",
              "      <td>9094.69</td>\n",
              "      <td>9175.21</td>\n",
              "      <td>9089.32</td>\n",
              "      <td>9172.57</td>\n",
              "      <td>3371.70</td>\n",
              "      <td>30818549.21</td>\n",
              "    </tr>\n",
              "    <tr>\n",
              "      <th>1525834800</th>\n",
              "      <td>9056.42</td>\n",
              "      <td>9094.75</td>\n",
              "      <td>9016.16</td>\n",
              "      <td>9094.69</td>\n",
              "      <td>6559.13</td>\n",
              "      <td>59468539.57</td>\n",
              "    </tr>\n",
              "    <tr>\n",
              "      <th>1525838400</th>\n",
              "      <td>9086.62</td>\n",
              "      <td>9090.16</td>\n",
              "      <td>8987.27</td>\n",
              "      <td>9056.42</td>\n",
              "      <td>5624.84</td>\n",
              "      <td>50897503.62</td>\n",
              "    </tr>\n",
              "  </tbody>\n",
              "</table>\n",
              "</div>"
            ],
            "text/plain": [
              "              close     high      low     open  volumefrom     volumeto\n",
              "time                                                                   \n",
              "1525824000  9138.61  9204.71  9137.56  9196.13     2460.45  22619904.40\n",
              "1525827600  9173.02  9179.73  9137.50  9138.62      977.43   8989864.00\n",
              "1525831200  9094.69  9175.21  9089.32  9172.57     3371.70  30818549.21\n",
              "1525834800  9056.42  9094.75  9016.16  9094.69     6559.13  59468539.57\n",
              "1525838400  9086.62  9090.16  8987.27  9056.42     5624.84  50897503.62"
            ]
          },
          "metadata": {
            "tags": []
          },
          "execution_count": 53
        }
      ]
    },
    {
      "metadata": {
        "id": "QCr6GvxkuPbY",
        "colab_type": "code",
        "colab": {}
      },
      "cell_type": "code",
      "source": [
        "def load_data(X, seq_len, train_size=0.9):\n",
        "    amount_of_features = X.shape[1]\n",
        "    X_mat = X.as_matrix()\n",
        "    sequence_length = seq_len + 1\n",
        "    data = []\n",
        "    \n",
        "    for index in range(len(X_mat) - sequence_length):\n",
        "        data.append(X_mat[index: index + sequence_length])\n",
        "    \n",
        "    data = np.array(data)\n",
        "    train_split = int(round(train_size * data.shape[0]))\n",
        "    train_data = data[:train_split, :]\n",
        "    \n",
        "    x_train = train_data[:, :-1]\n",
        "    y_train = train_data[:, -1][:,0]\n",
        "    \n",
        "    x_test = data[train_split:, :-1] \n",
        "    y_test = data[train_split:, -1][:,0]\n",
        "\n",
        "    return x_train, y_train, x_test, y_test"
      ],
      "execution_count": 0,
      "outputs": []
    },
    {
      "metadata": {
        "id": "xF0l9wT7KGTZ",
        "colab_type": "code",
        "colab": {}
      },
      "cell_type": "code",
      "source": [
        "def load_data2(X, seq_len, train_size=0.9):\n",
        "  df_s = X.copy()  \n",
        "  for i in range(seq_len):\n",
        "    df_s = pd.concat([df_s, X.shift(-(i+1))], axis = 1) \n",
        "    \n",
        "  df_s.dropna(axis=0, inplace=True)\n",
        "  \n",
        "  X = df_s.iloc[:,6:]  \n",
        "  y = df_s.iloc[:,0]\n",
        "  \n",
        "  x_train, x_test, y_train, y_test = train_test_split(X, y, test_size=1-train_size, random_state=32, shuffle=False)\n",
        " \n",
        "  return x_train, y_train, x_test, y_test"
      ],
      "execution_count": 0,
      "outputs": []
    },
    {
      "metadata": {
        "id": "2ziZ6jVRP8jr",
        "colab_type": "code",
        "colab": {
          "base_uri": "https://localhost:8080/",
          "height": 34
        },
        "outputId": "46d3424a-50bc-4353-c48a-35f7272e4a85"
      },
      "cell_type": "code",
      "source": [
        "window = 5\n",
        "X_train, y_train, X_test, y_test = load_data2(df, window)\n",
        "print(X_train.shape, X_test.shape, y_train.shape, y_test.shape)\n"
      ],
      "execution_count": 71,
      "outputs": [
        {
          "output_type": "stream",
          "text": [
            "(1796, 30) (200, 30) (1796,) (200,)\n"
          ],
          "name": "stdout"
        }
      ]
    },
    {
      "metadata": {
        "id": "FjdtC8zX99P9",
        "colab_type": "code",
        "colab": {
          "base_uri": "https://localhost:8080/",
          "height": 34
        },
        "outputId": "95b3cee1-aee8-4ddc-abf6-849afbe22141"
      },
      "cell_type": "code",
      "source": [
        "scaler = MinMaxScaler()\n",
        "#X_train_scaled = scaler.fit_transform(X_train.reshape(-1,X_train.shape[2]))\n",
        "X_train_scaled = scaler.fit_transform(X_train)\n",
        "X_train_scaled = X_train_scaled.reshape(X_train.shape[0], window, nb_features)\n",
        "\n",
        "#X_test_scaled = scaler.transform(X_test.reshape(-1,X_test.shape[2]))\n",
        "X_test_scaled = scaler.transform(X_test)\n",
        "X_test_scaled = X_test_scaled.reshape(X_test.shape[0], window, nb_features)\n",
        "\n",
        "print(X_train_scaled.shape, X_test_scaled.shape)\n"
      ],
      "execution_count": 77,
      "outputs": [
        {
          "output_type": "stream",
          "text": [
            "(1796, 5, 6) (200, 5, 6)\n"
          ],
          "name": "stdout"
        }
      ]
    },
    {
      "metadata": {
        "id": "dKin5N7eBIPR",
        "colab_type": "code",
        "colab": {
          "base_uri": "https://localhost:8080/",
          "height": 360
        },
        "outputId": "0322206e-e931-440f-d915-8c17b764c136"
      },
      "cell_type": "code",
      "source": [
        "plt.plot(y_train, label='y_train')\n",
        "plt.plot(y_test, label='y_test')\n",
        "plt.legend(loc='best')\n",
        "plt.show()"
      ],
      "execution_count": 75,
      "outputs": [
        {
          "output_type": "display_data",
          "data": {
            "image/png": "[encoded data removed]",
            "text/plain": [
              "<matplotlib.figure.Figure at 0x7efce7e28908>"
            ]
          },
          "metadata": {
            "tags": []
          }
        }
      ]
    },
    {
      "metadata": {
        "id": "8qDFM4zeI2UE",
        "colab_type": "code",
        "colab": {}
      },
      "cell_type": "code",
      "source": [
        "neurons = 128 #512                 \n",
        "activation_function = 'tanh' \n",
        "dropout = 0.2 #0.25     \n",
        "loss = 'mse'                  \n",
        "optimizer=\"adam\"              \n",
        "            \n",
        "batch_size = 100               \n",
        "epochs = 200                                 \n",
        "training_size = 0.8\n",
        "\n",
        "\n",
        "def nn_model(input_shape=(window, nb_features), output_size=1, neurons=neurons, activ_func=activation_function, dropout=dropout, loss=loss, optimizer=optimizer):\n",
        "  model = Sequential()\n",
        "  \n",
        "  model.add(LSTM(neurons, return_sequences=True, input_shape=input_shape))\n",
        "  model.add(Dropout(dropout))\n",
        "  \n",
        "  #model.add(LSTM(neurons, return_sequences=True, activation=activ_func))\n",
        "  #model.add(Dropout(dropout))\n",
        "  \n",
        "  model.add(LSTM(neurons, return_sequences=False))\n",
        "  model.add(Dropout(dropout))\n",
        "  \n",
        "  #model.add(Dense(units=output_size))\n",
        "  #model.add(Activation(activ_func))\n",
        "  model.add(Dense(32,kernel_initializer=\"uniform\",activation='relu'))        \n",
        "  model.add(Dense(1,kernel_initializer=\"uniform\",activation='linear'))\n",
        "    \n",
        "  \n",
        "  model.compile(loss=loss, optimizer=optimizer, metrics=['mse'])\n",
        "#  model.summary()\n",
        "  return model\n",
        "\n",
        "def nn_model2(input_shape=(window, nb_features)):\n",
        "    d = 0.2\n",
        "    model = Sequential()\n",
        "    \n",
        "    model.add(LSTM(128, input_shape=input_shape, return_sequences=True))\n",
        "    model.add(Dropout(d))\n",
        "        \n",
        "    model.add(LSTM(128, input_shape=input_shape, return_sequences=False))\n",
        "    model.add(Dropout(d))\n",
        "        \n",
        "    model.add(Dense(32,kernel_initializer=\"uniform\",activation='relu'))        \n",
        "    model.add(Dense(1,kernel_initializer=\"uniform\",activation='linear'))\n",
        "    \n",
        "    model.compile(loss='mse',optimizer='adam', metrics=['mse'])\n",
        "    \n",
        "#    model.summary()\n",
        "    return model\n",
        "  \n",
        "# random seed for reproducibility\n",
        "np.random.seed(32)\n",
        "# initialise model architecture\n",
        "model = nn_model()"
      ],
      "execution_count": 0,
      "outputs": []
    },
    {
      "metadata": {
        "id": "rvUJxA0GMQjG",
        "colab_type": "code",
        "colab": {
          "base_uri": "https://localhost:8080/",
          "height": 51
        },
        "outputId": "14655ffa-baaf-44f4-c49c-daf7dcefc723"
      },
      "cell_type": "code",
      "source": [
        "model.fit(X_train_scaled, y_train, batch_size=100, epochs=200, verbose=0)\n",
        "\n",
        "\n",
        "trainPredict = pd.Series(model.predict(X_train_scaled)[:,0], index=y_train.index.copy())\n",
        "testPredict = pd.Series(model.predict(X_test_scaled)[:,0], index=y_test.index.copy())\n",
        "\n",
        "trainScore = mean_squared_error(y_train, trainPredict) ** .5\n",
        "print('Train Score: %.2f RMSE' % (trainScore))\n",
        "testScore = mean_squared_error(y_test, testPredict) ** .5\n",
        "print('Test Score: %.2f RMSE' % (testScore))"
      ],
      "execution_count": 97,
      "outputs": [
        {
          "output_type": "stream",
          "text": [
            "Train Score: 116.67 RMSE\n",
            "Test Score: 83.81 RMSE\n"
          ],
          "name": "stdout"
        }
      ]
    },
    {
      "metadata": {
        "id": "3hNrBHw5yh4-",
        "colab_type": "code",
        "colab": {
          "base_uri": "https://localhost:8080/",
          "height": 360
        },
        "outputId": "f6fd4b89-9ffe-4982-8181-1a55d43403eb"
      },
      "cell_type": "code",
      "source": [
        "plt.plot(y_train, label='Actual test')\n",
        "plt.plot(y_test, label='Actual test')\n",
        "plt.plot(trainPredict, label='Predicted train')\n",
        "plt.plot(testPredict, label='Predicted test')\n",
        "plt.legend(loc='best')\n",
        "plt.show()"
      ],
      "execution_count": 98,
      "outputs": [
        {
          "output_type": "display_data",
          "data": {
            "image/png": "[encoded data removed]",
            "text/plain": [
              "<matplotlib.figure.Figure at 0x7efcbf616940>"
            ]
          },
          "metadata": {
            "tags": []
          }
        }
      ]
    }
  ]
}